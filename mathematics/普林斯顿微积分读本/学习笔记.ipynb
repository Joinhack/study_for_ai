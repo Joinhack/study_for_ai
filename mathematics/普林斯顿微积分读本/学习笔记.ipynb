{
 "cells": [
  {
   "cell_type": "markdown",
   "metadata": {},
   "source": [
    "# 学习笔记常用公式\n",
    "\n",
    "## 1. 函数图像与直线\n",
    "### 1.1 函数图像\n",
    "定义：对于某个曲线，如果任意一条垂直于 𝑥 x 轴的直线最多只能与该曲线相交一次，则该曲线是函数的图像。\n",
    "\n",
    "举例：\n",
    "- $ y = x^2 $ 是函数，因为任意一条垂直线最多只与其交一次。\n",
    "- $ x^2 + y^2 = 1 $（单位圆）**不是** 函数，因为某些 $ x $ 值对应两个 $ y $ 值。\n",
    "### 1.2 反函数\n",
    "反函数（Inverse Function）是 **“反向操作”** 的函数。如果一个函数 $ f(x) $ **把输入 $ x $ 变成输出 $ y $**，那么它的反函数 $ f^{-1}(x) $ 就会 **把 $ y $ 变回 $ x $**。\n",
    "#### 水平检查\n",
    "如果函数 $ y = f(x) $ 的 **图像上任意一条水平线最多只能与其交于一个点**，则该函数 **可逆**，即存在唯一的反函数。\n",
    "### 1.4 奇函数和偶函数\n",
    "- 奇函数定义: $f(-x) = -f(x)$表示奇函数，奇函数原点对称\n",
    "- 偶函数定义: $f(x) = f(x)$表示偶函数，偶函数对y轴对称\n",
    "## 2.三角函数\n",
    "### 2.1 基本知识\n",
    "$$\n",
    "\\text{余割} \\csc(x) = \\frac{1}{\\sin(x)}, \\quad\n",
    "\\text{正割} \\sec(x) = \\frac{1}{\\cos(x)} \\quad \\text{及} \\quad\n",
    "\\text{余切} \\cot(x) = \\frac{1}{\\tan(x)}.\n",
    "$$\n",
    "\n",
    "### 2.4 三角恒等式\n",
    "正切公式: $\\tan(x) = \\dfrac{\\sin(x)}{\\cos(x)}$. 余切公式: $\\cot(x) = \\dfrac{\\cos(x)}{\\sin(x)}$\n",
    "\n",
    "三角函数毕达哥拉斯定理（Pythagorean Theorem）: $\\sin(x)^2 + cos(x)^2 = 1$\n",
    "\n",
    "公式:\n",
    "$$\n",
    "\\sin(a+b) = \\sin(a)\\cos(b) + \\cos(a)\\sin(b) \n",
    "\\\\\n",
    "\\cos(a+b) = \\cos(a)\\cos(b) - \\sin(a)\\sin(b)\n",
    "$$\n",
    "\n",
    "倍角公式:\n",
    "$$\n",
    "\\sin(2x) = 2\\sin(x)\\cos(x) \\\\\n",
    "\\cos(2x) = 2\\cos^2(x) - 1 = 1 - sin^2(x)\n",
    "$$\n"
   ]
  },
  {
   "cell_type": "markdown",
   "metadata": {},
   "source": []
  },
  {
   "cell_type": "markdown",
   "metadata": {},
   "source": []
  }
 ],
 "metadata": {
  "language_info": {
   "name": "python"
  }
 },
 "nbformat": 4,
 "nbformat_minor": 2
}
